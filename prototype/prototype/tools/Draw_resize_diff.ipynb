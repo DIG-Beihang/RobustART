{
 "cells": [
  {
   "cell_type": "code",
   "execution_count": 1,
   "metadata": {},
   "outputs": [],
   "source": [
    "import cv2\n",
    "import numpy as np\n",
    "from PIL import Image"
   ]
  },
  {
   "cell_type": "code",
   "execution_count": 2,
   "metadata": {},
   "outputs": [
    {
     "data": {
      "text/plain": [
       "array([[  0., 255.,   0., 255.,   0., 255.],\n",
       "       [255.,   0., 255.,   0., 255.,   0.],\n",
       "       [  0., 255.,   0., 255.,   0., 255.],\n",
       "       [255.,   0., 255.,   0., 255.,   0.],\n",
       "       [  0., 255.,   0., 255.,   0., 255.],\n",
       "       [255.,   0., 255.,   0., 255.,   0.]], dtype=float32)"
      ]
     },
     "execution_count": 2,
     "metadata": {},
     "output_type": "execute_result"
    }
   ],
   "source": [
    "or_img = np.array([\n",
    "    [0,1,0,1,0,1],\n",
    "    [1,0,1,0,1,0],\n",
    "    [0,1,0,1,0,1],\n",
    "    [1,0,1,0,1,0],\n",
    "    [0,1,0,1,0,1],\n",
    "    [1,0,1,0,1,0],\n",
    "]).astype('float32')\n",
    "or_img *= 255\n",
    "or_img"
   ]
  },
  {
   "cell_type": "code",
   "execution_count": null,
   "metadata": {},
   "outputs": [],
   "source": []
  },
  {
   "cell_type": "code",
   "execution_count": 28,
   "metadata": {},
   "outputs": [
    {
     "data": {
      "text/plain": [
       "array([[255., 255., 255., 255., 255., 255.],\n",
       "       [  0.,   0.,   0.,   0.,   0.,   0.],\n",
       "       [255., 255., 255., 255., 255., 255.],\n",
       "       [  0.,   0.,   0.,   0.,   0.,   0.],\n",
       "       [255., 255., 255., 255., 255., 255.],\n",
       "       [  0.,   0.,   0.,   0.,   0.,   0.]], dtype=float32)"
      ]
     },
     "execution_count": 28,
     "metadata": {},
     "output_type": "execute_result"
    }
   ],
   "source": [
    "or_img = np.array([\n",
    "    [1,1,1,1,1,1],\n",
    "    [0,0,0,0,0,0],\n",
    "    [1,1,1,1,1,1],\n",
    "    [0,0,0,0,0,0],\n",
    "    [1,1,1,1,1,1],\n",
    "    [0,0,0,0,0,0],\n",
    "]).astype('float32')\n",
    "or_img *= 255\n",
    "or_img\n",
    "\n",
    "\n"
   ]
  },
  {
   "cell_type": "code",
   "execution_count": 29,
   "metadata": {},
   "outputs": [
    {
     "data": {
      "text/plain": [
       "array([[255., 255., 255.],\n",
       "       [255., 255., 255.],\n",
       "       [255., 255., 255.]], dtype=float32)"
      ]
     },
     "execution_count": 29,
     "metadata": {},
     "output_type": "execute_result"
    }
   ],
   "source": [
    "cv2_nearest = cv2.resize(or_img, (3,3), interpolation=cv2.INTER_NEAREST)\n",
    "cv2_nearest"
   ]
  },
  {
   "cell_type": "code",
   "execution_count": 30,
   "metadata": {},
   "outputs": [
    {
     "data": {
      "text/plain": [
       "array([[127.5, 127.5, 127.5],\n",
       "       [127.5, 127.5, 127.5],\n",
       "       [127.5, 127.5, 127.5]], dtype=float32)"
      ]
     },
     "execution_count": 30,
     "metadata": {},
     "output_type": "execute_result"
    }
   ],
   "source": [
    "cv2_bilinear = cv2.resize(or_img, (3,3), interpolation=cv2.INTER_LINEAR)\n",
    "cv2_bilinear"
   ]
  },
  {
   "cell_type": "code",
   "execution_count": 31,
   "metadata": {},
   "outputs": [
    {
     "data": {
      "text/plain": [
       "array([[127.5, 127.5, 127.5],\n",
       "       [127.5, 127.5, 127.5],\n",
       "       [127.5, 127.5, 127.5]], dtype=float32)"
      ]
     },
     "execution_count": 31,
     "metadata": {},
     "output_type": "execute_result"
    }
   ],
   "source": [
    "cv2_area = cv2.resize(or_img, (3,3), interpolation=cv2.INTER_AREA)\n",
    "cv2_area"
   ]
  },
  {
   "cell_type": "code",
   "execution_count": 32,
   "metadata": {},
   "outputs": [
    {
     "data": {
      "text/plain": [
       "array([[103.59375, 103.59375, 103.59375],\n",
       "       [127.5    , 127.5    , 127.5    ],\n",
       "       [151.40625, 151.40625, 151.40625]], dtype=float32)"
      ]
     },
     "execution_count": 32,
     "metadata": {},
     "output_type": "execute_result"
    }
   ],
   "source": [
    "cv2_cubic = cv2.resize(or_img, (3,3), interpolation=cv2.INTER_CUBIC)\n",
    "cv2_cubic"
   ]
  },
  {
   "cell_type": "code",
   "execution_count": 33,
   "metadata": {},
   "outputs": [
    {
     "data": {
      "text/plain": [
       "array([[ 81.94643,  81.94643,  81.94643],\n",
       "       [127.5    , 127.5    , 127.5    ],\n",
       "       [173.05357, 173.05357, 173.05357]], dtype=float32)"
      ]
     },
     "execution_count": 33,
     "metadata": {},
     "output_type": "execute_result"
    }
   ],
   "source": [
    "cv2_lanczos = cv2.resize(or_img, (3,3), interpolation=cv2.INTER_LANCZOS4)\n",
    "cv2_lanczos"
   ]
  },
  {
   "cell_type": "code",
   "execution_count": null,
   "metadata": {},
   "outputs": [],
   "source": [
    "\n",
    "\n",
    "\n",
    "\n",
    "\n"
   ]
  },
  {
   "cell_type": "code",
   "execution_count": 34,
   "metadata": {},
   "outputs": [],
   "source": [
    "or_img_pil = Image.fromarray(or_img)"
   ]
  },
  {
   "cell_type": "code",
   "execution_count": 35,
   "metadata": {},
   "outputs": [
    {
     "data": {
      "text/plain": [
       "array([[0., 0., 0.],\n",
       "       [0., 0., 0.],\n",
       "       [0., 0., 0.]], dtype=float32)"
      ]
     },
     "execution_count": 35,
     "metadata": {},
     "output_type": "execute_result"
    }
   ],
   "source": [
    "pil_nearest = np.asarray(or_img_pil.resize([3,3], Image.NEAREST))\n",
    "pil_nearest"
   ]
  },
  {
   "cell_type": "code",
   "execution_count": 36,
   "metadata": {},
   "outputs": [
    {
     "data": {
      "text/plain": [
       "array([[145.71428, 145.71428, 145.71428],\n",
       "       [127.5    , 127.5    , 127.5    ],\n",
       "       [109.28571, 109.28571, 109.28571]], dtype=float32)"
      ]
     },
     "execution_count": 36,
     "metadata": {},
     "output_type": "execute_result"
    }
   ],
   "source": [
    "pil_bilinear = np.asarray(or_img_pil.resize([3,3], Image.BILINEAR))\n",
    "pil_bilinear"
   ]
  },
  {
   "cell_type": "code",
   "execution_count": 37,
   "metadata": {},
   "outputs": [
    {
     "data": {
      "text/plain": [
       "array([[146.17155, 146.17155, 146.17155],\n",
       "       [127.5    , 127.5    , 127.5    ],\n",
       "       [108.82845, 108.82845, 108.82845]], dtype=float32)"
      ]
     },
     "execution_count": 37,
     "metadata": {},
     "output_type": "execute_result"
    }
   ],
   "source": [
    "pil_cubic = np.asarray(or_img_pil.resize([3,3], Image.BICUBIC))\n",
    "pil_cubic"
   ]
  },
  {
   "cell_type": "code",
   "execution_count": 38,
   "metadata": {},
   "outputs": [
    {
     "data": {
      "text/plain": [
       "array([[148.20518 , 148.20518 , 148.20518 ],\n",
       "       [127.5     , 127.5     , 127.5     ],\n",
       "       [106.794815, 106.794815, 106.794815]], dtype=float32)"
      ]
     },
     "execution_count": 38,
     "metadata": {},
     "output_type": "execute_result"
    }
   ],
   "source": [
    "pil_lanczos = np.asarray(or_img_pil.resize([3,3], Image.LANCZOS))\n",
    "pil_lanczos"
   ]
  },
  {
   "cell_type": "code",
   "execution_count": 39,
   "metadata": {},
   "outputs": [
    {
     "data": {
      "text/plain": [
       "array([[127.5, 127.5, 127.5],\n",
       "       [127.5, 127.5, 127.5],\n",
       "       [127.5, 127.5, 127.5]], dtype=float32)"
      ]
     },
     "execution_count": 39,
     "metadata": {},
     "output_type": "execute_result"
    }
   ],
   "source": [
    "pil_box = np.asarray(or_img_pil.resize([3,3], Image.BOX))\n",
    "pil_box"
   ]
  },
  {
   "cell_type": "code",
   "execution_count": 40,
   "metadata": {},
   "outputs": [
    {
     "data": {
      "text/plain": [
       "array([[132.56409, 132.56409, 132.56409],\n",
       "       [127.5    , 127.5    , 127.5    ],\n",
       "       [122.43591, 122.43591, 122.43591]], dtype=float32)"
      ]
     },
     "execution_count": 40,
     "metadata": {},
     "output_type": "execute_result"
    }
   ],
   "source": [
    "pil_hamming = np.asarray(or_img_pil.resize([3,3], Image.HAMMING))\n",
    "pil_hamming"
   ]
  },
  {
   "cell_type": "code",
   "execution_count": null,
   "metadata": {},
   "outputs": [],
   "source": []
  },
  {
   "cell_type": "code",
   "execution_count": null,
   "metadata": {},
   "outputs": [],
   "source": []
  },
  {
   "cell_type": "code",
   "execution_count": 41,
   "metadata": {},
   "outputs": [],
   "source": [
    "from matplotlib.pyplot import imshow\n",
    "import matplotlib.pyplot as plt"
   ]
  },
  {
   "cell_type": "code",
   "execution_count": 61,
   "metadata": {},
   "outputs": [
    {
     "data": {
      "image/png": "[encoded data removed]",
      "text/plain": [
       "<Figure size 432x288 with 1 Axes>"
      ]
     },
     "metadata": {
      "needs_background": "light"
     },
     "output_type": "display_data"
    },
    {
     "data": {
      "text/plain": [
       "array([[255., 255., 255., 255., 255., 255.],\n",
       "       [  0.,   0.,   0.,   0.,   0.,   0.],\n",
       "       [255., 255., 255., 255., 255., 255.],\n",
       "       [  0.,   0.,   0.,   0.,   0.,   0.],\n",
       "       [255., 255., 255., 255., 255., 255.],\n",
       "       [  0.,   0.,   0.,   0.,   0.,   0.]], dtype=float32)"
      ]
     },
     "execution_count": 61,
     "metadata": {},
     "output_type": "execute_result"
    }
   ],
   "source": [
    "plt.imshow(or_img, cmap='gray', vmin=0, vmax=255, origin = 'lower')\n",
    "ax = plt.gca()\n",
    "ax.set_xticks(np.arange(-.5, 6, 1))\n",
    "ax.set_yticks(np.arange(-.5, 6, 1))\n",
    "ax.set_xticklabels(np.arange(0, 7, 1))\n",
    "ax.set_yticklabels(np.arange(0, 7, 1))\n",
    "#ax.grid(color='black', linestyle='-.', linewidth=1)\n",
    "plt.show()\n",
    "or_img"
   ]
  },
  {
   "cell_type": "code",
   "execution_count": 65,
   "metadata": {},
   "outputs": [
    {
     "data": {
      "image/png": "[encoded data removed]",
      "text/plain": [
       "<Figure size 432x288 with 1 Axes>"
      ]
     },
     "metadata": {
      "needs_background": "light"
     },
     "output_type": "display_data"
    },
    {
     "data": {
      "text/plain": [
       "array([[255., 255., 255.],\n",
       "       [255., 255., 255.],\n",
       "       [255., 255., 255.]], dtype=float32)"
      ]
     },
     "execution_count": 65,
     "metadata": {},
     "output_type": "execute_result"
    }
   ],
   "source": [
    "plt.imshow(cv2_nearest, cmap='gray', vmin=0, vmax=255, origin = 'lower')\n",
    "ax = plt.gca()\n",
    "ax.set_xticks(np.arange(-.5, 3, 1))\n",
    "ax.set_yticks(np.arange(-.5, 3, 1))\n",
    "ax.set_xticklabels(np.arange(0, 4, 1))\n",
    "ax.set_yticklabels(np.arange(0, 4, 1))\n",
    "#ax.grid(color='black', linestyle='-.', linewidth=1)\n",
    "plt.show()\n",
    "cv2_nearest"
   ]
  },
  {
   "cell_type": "code",
   "execution_count": 71,
   "metadata": {},
   "outputs": [
    {
     "data": {
      "image/png": "[encoded data removed]",
      "text/plain": [
       "<Figure size 432x288 with 1 Axes>"
      ]
     },
     "metadata": {
      "needs_background": "light"
     },
     "output_type": "display_data"
    },
    {
     "data": {
      "text/plain": [
       "array([[0., 0., 0.],\n",
       "       [0., 0., 0.],\n",
       "       [0., 0., 0.]], dtype=float32)"
      ]
     },
     "execution_count": 71,
     "metadata": {},
     "output_type": "execute_result"
    }
   ],
   "source": [
    "plt.imshow(pil_nearest, cmap='gray', vmin=0, vmax=255, origin = 'lower')\n",
    "ax = plt.gca()\n",
    "ax.set_xticks(np.arange(-.5, 3, 1))\n",
    "ax.set_yticks(np.arange(-.5, 3, 1))\n",
    "ax.set_xticklabels(np.arange(0, 4, 1))\n",
    "ax.set_yticklabels(np.arange(0, 4, 1))\n",
    "#ax.grid(color='black', linestyle='-.', linewidth=1)\n",
    "plt.show()\n",
    "pil_nearest"
   ]
  },
  {
   "cell_type": "code",
   "execution_count": 66,
   "metadata": {},
   "outputs": [
    {
     "data": {
      "image/png": "[encoded data removed]",
      "text/plain": [
       "<Figure size 432x288 with 1 Axes>"
      ]
     },
     "metadata": {
      "needs_background": "light"
     },
     "output_type": "display_data"
    },
    {
     "data": {
      "text/plain": [
       "array([[127.5, 127.5, 127.5],\n",
       "       [127.5, 127.5, 127.5],\n",
       "       [127.5, 127.5, 127.5]], dtype=float32)"
      ]
     },
     "execution_count": 66,
     "metadata": {},
     "output_type": "execute_result"
    }
   ],
   "source": [
    "plt.imshow(cv2_bilinear, cmap='gray', vmin=0, vmax=255, origin = 'lower')\n",
    "ax = plt.gca()\n",
    "ax.set_xticks(np.arange(-.5, 3, 1))\n",
    "ax.set_yticks(np.arange(-.5, 3, 1))\n",
    "ax.set_xticklabels(np.arange(0, 4, 1))\n",
    "ax.set_yticklabels(np.arange(0, 4, 1))\n",
    "#ax.grid(color='black', linestyle='-.', linewidth=1)\n",
    "plt.show()\n",
    "cv2_bilinear"
   ]
  },
  {
   "cell_type": "code",
   "execution_count": 72,
   "metadata": {},
   "outputs": [
    {
     "data": {
      "image/png": "[encoded data removed]",
      "text/plain": [
       "<Figure size 432x288 with 1 Axes>"
      ]
     },
     "metadata": {
      "needs_background": "light"
     },
     "output_type": "display_data"
    },
    {
     "data": {
      "text/plain": [
       "array([[145.71428, 145.71428, 145.71428],\n",
       "       [127.5    , 127.5    , 127.5    ],\n",
       "       [109.28571, 109.28571, 109.28571]], dtype=float32)"
      ]
     },
     "execution_count": 72,
     "metadata": {},
     "output_type": "execute_result"
    }
   ],
   "source": [
    "plt.imshow(pil_bilinear, cmap='gray', vmin=0, vmax=255, origin = 'lower')\n",
    "ax = plt.gca()\n",
    "ax.set_xticks(np.arange(-.5, 3, 1))\n",
    "ax.set_yticks(np.arange(-.5, 3, 1))\n",
    "ax.set_xticklabels(np.arange(0, 4, 1))\n",
    "ax.set_yticklabels(np.arange(0, 4, 1))\n",
    "#ax.grid(color='black', linestyle='-.', linewidth=1)\n",
    "plt.show()\n",
    "pil_bilinear"
   ]
  },
  {
   "cell_type": "code",
   "execution_count": 67,
   "metadata": {},
   "outputs": [
    {
     "data": {
      "image/png": "[encoded data removed]",
      "text/plain": [
       "<Figure size 432x288 with 1 Axes>"
      ]
     },
     "metadata": {
      "needs_background": "light"
     },
     "output_type": "display_data"
    },
    {
     "data": {
      "text/plain": [
       "array([[103.59375, 103.59375, 103.59375],\n",
       "       [127.5    , 127.5    , 127.5    ],\n",
       "       [151.40625, 151.40625, 151.40625]], dtype=float32)"
      ]
     },
     "execution_count": 67,
     "metadata": {},
     "output_type": "execute_result"
    }
   ],
   "source": [
    "plt.imshow(cv2_cubic, cmap='gray', vmin=0, vmax=255, origin = 'lower')\n",
    "ax = plt.gca()\n",
    "ax.set_xticks(np.arange(-.5, 3, 1))\n",
    "ax.set_yticks(np.arange(-.5, 3, 1))\n",
    "ax.set_xticklabels(np.arange(0, 4, 1))\n",
    "ax.set_yticklabels(np.arange(0, 4, 1))\n",
    "#ax.grid(color='black', linestyle='-.', linewidth=1)\n",
    "plt.show()\n",
    "cv2_cubic"
   ]
  },
  {
   "cell_type": "code",
   "execution_count": 48,
   "metadata": {},
   "outputs": [
    {
     "data": {
      "text/plain": [
       "array([[146.17155, 146.17155, 146.17155],\n",
       "       [127.5    , 127.5    , 127.5    ],\n",
       "       [108.82845, 108.82845, 108.82845]], dtype=float32)"
      ]
     },
     "execution_count": 48,
     "metadata": {},
     "output_type": "execute_result"
    },
    {
     "data": {
      "image/png": "[encoded data removed]",
      "text/plain": [
       "<Figure size 432x288 with 1 Axes>"
      ]
     },
     "metadata": {
      "needs_background": "light"
     },
     "output_type": "display_data"
    }
   ],
   "source": [
    "imshow(pil_cubic, cmap='gray', vmin=0, vmax=255)\n",
    "pil_cubic"
   ]
  },
  {
   "cell_type": "code",
   "execution_count": 68,
   "metadata": {},
   "outputs": [
    {
     "data": {
      "image/png": "[encoded data removed]",
      "text/plain": [
       "<Figure size 432x288 with 1 Axes>"
      ]
     },
     "metadata": {
      "needs_background": "light"
     },
     "output_type": "display_data"
    },
    {
     "data": {
      "text/plain": [
       "array([[ 81.94643,  81.94643,  81.94643],\n",
       "       [127.5    , 127.5    , 127.5    ],\n",
       "       [173.05357, 173.05357, 173.05357]], dtype=float32)"
      ]
     },
     "execution_count": 68,
     "metadata": {},
     "output_type": "execute_result"
    }
   ],
   "source": [
    "plt.imshow(cv2_lanczos, cmap='gray', vmin=0, vmax=255, origin = 'lower')\n",
    "ax = plt.gca()\n",
    "ax.set_xticks(np.arange(-.5, 3, 1))\n",
    "ax.set_yticks(np.arange(-.5, 3, 1))\n",
    "ax.set_xticklabels(np.arange(0, 4, 1))\n",
    "ax.set_yticklabels(np.arange(0, 4, 1))\n",
    "#ax.grid(color='black', linestyle='-.', linewidth=1)\n",
    "plt.show()\n",
    "cv2_lanczos"
   ]
  },
  {
   "cell_type": "code",
   "execution_count": 69,
   "metadata": {},
   "outputs": [
    {
     "data": {
      "text/plain": [
       "array([[148.20518 , 148.20518 , 148.20518 ],\n",
       "       [127.5     , 127.5     , 127.5     ],\n",
       "       [106.794815, 106.794815, 106.794815]], dtype=float32)"
      ]
     },
     "execution_count": 69,
     "metadata": {},
     "output_type": "execute_result"
    },
    {
     "data": {
      "image/png": "[encoded data removed]",
      "text/plain": [
       "<Figure size 432x288 with 1 Axes>"
      ]
     },
     "metadata": {
      "needs_background": "light"
     },
     "output_type": "display_data"
    }
   ],
   "source": [
    "imshow(pil_lanczos, cmap='gray', vmin=0, vmax=255)\n",
    "pil_lanczos"
   ]
  },
  {
   "cell_type": "code",
   "execution_count": 70,
   "metadata": {},
   "outputs": [
    {
     "data": {
      "image/png": "[encoded data removed]",
      "text/plain": [
       "<Figure size 432x288 with 1 Axes>"
      ]
     },
     "metadata": {
      "needs_background": "light"
     },
     "output_type": "display_data"
    },
    {
     "data": {
      "text/plain": [
       "array([[127.5, 127.5, 127.5],\n",
       "       [127.5, 127.5, 127.5],\n",
       "       [127.5, 127.5, 127.5]], dtype=float32)"
      ]
     },
     "execution_count": 70,
     "metadata": {},
     "output_type": "execute_result"
    }
   ],
   "source": [
    "plt.imshow(cv2_area, cmap='gray', vmin=0, vmax=255, origin = 'lower')\n",
    "ax = plt.gca()\n",
    "ax.set_xticks(np.arange(-.5, 3, 1))\n",
    "ax.set_yticks(np.arange(-.5, 3, 1))\n",
    "ax.set_xticklabels(np.arange(0, 4, 1))\n",
    "ax.set_yticklabels(np.arange(0, 4, 1))\n",
    "#ax.grid(color='black', linestyle='-.', linewidth=1)\n",
    "plt.show()\n",
    "cv2_area"
   ]
  },
  {
   "cell_type": "code",
   "execution_count": 52,
   "metadata": {},
   "outputs": [
    {
     "data": {
      "text/plain": [
       "array([[127.5, 127.5, 127.5],\n",
       "       [127.5, 127.5, 127.5],\n",
       "       [127.5, 127.5, 127.5]], dtype=float32)"
      ]
     },
     "execution_count": 52,
     "metadata": {},
     "output_type": "execute_result"
    },
    {
     "data": {
      "image/png": "[encoded data removed]",
      "text/plain": [
       "<Figure size 432x288 with 1 Axes>"
      ]
     },
     "metadata": {
      "needs_background": "light"
     },
     "output_type": "display_data"
    }
   ],
   "source": [
    "imshow(pil_box, cmap='gray', vmin=0, vmax=255)\n",
    "pil_box"
   ]
  },
  {
   "cell_type": "code",
   "execution_count": 53,
   "metadata": {},
   "outputs": [
    {
     "data": {
      "text/plain": [
       "array([[132.56409, 132.56409, 132.56409],\n",
       "       [127.5    , 127.5    , 127.5    ],\n",
       "       [122.43591, 122.43591, 122.43591]], dtype=float32)"
      ]
     },
     "execution_count": 53,
     "metadata": {},
     "output_type": "execute_result"
    },
    {
     "data": {
      "image/png": "[encoded data removed]",
      "text/plain": [
       "<Figure size 432x288 with 1 Axes>"
      ]
     },
     "metadata": {
      "needs_background": "light"
     },
     "output_type": "display_data"
    }
   ],
   "source": [
    "imshow(pil_hamming, cmap='gray', vmin=0, vmax=255)\n",
    "pil_hamming"
   ]
  },
  {
   "cell_type": "code",
   "execution_count": null,
   "metadata": {},
   "outputs": [],
   "source": []
  },
  {
   "cell_type": "code",
   "execution_count": null,
   "metadata": {},
   "outputs": [],
   "source": []
  },
  {
   "cell_type": "code",
   "execution_count": null,
   "metadata": {},
   "outputs": [],
   "source": []
  },
  {
   "cell_type": "code",
   "execution_count": null,
   "metadata": {},
   "outputs": [],
   "source": []
  },
  {
   "cell_type": "code",
   "execution_count": null,
   "metadata": {},
   "outputs": [],
   "source": []
  }
 ],
 "metadata": {
  "kernelspec": {
   "display_name": "Python 3",
   "language": "python",
   "name": "python3"
  },
  "language_info": {
   "codemirror_mode": {
    "name": "ipython",
    "version": 3
   },
   "file_extension": ".py",
   "mimetype": "text/x-python",
   "name": "python",
   "nbconvert_exporter": "python",
   "pygments_lexer": "ipython3",
   "version": "3.6.9"
  }
 },
 "nbformat": 4,
 "nbformat_minor": 2
}
